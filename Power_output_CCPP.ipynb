{
 "cells": [
  {
   "cell_type": "code",
   "execution_count": 1,
   "metadata": {},
   "outputs": [
    {
     "name": "stdout",
     "output_type": "stream",
     "text": [
      "      AT      V       AP     RH      PE\n",
      "0  14.96  41.76  1024.07  73.17  463.26\n",
      "1  25.18  62.96  1020.04  59.08  444.37\n",
      "2   5.11  39.40  1012.16  92.14  488.56\n",
      "3  20.86  57.32  1010.24  76.64  446.48\n",
      "4  10.82  37.50  1009.23  96.62  473.90\n"
     ]
    }
   ],
   "source": [
    "def warn(*args, **kwargs):\n",
    "    pass\n",
    "import warnings\n",
    "warnings.warn = warn\n",
    "\n",
    "import pandas as pd\n",
    "import numpy as np\n",
    "dataset = pd.read_excel('./Dataset/CCPP/CCPP_dataset.xlsx')\n",
    "\n",
    "print(dataset.head())\n"
   ]
  },
  {
   "cell_type": "markdown",
   "metadata": {},
   "source": [
    "AT  -  Ambient temperature\n",
    "\n",
    "V   -  Exhaust Volume\n",
    "\n",
    "AP  -  Ambient pressure\n",
    "\n",
    "RH  -  Relative Humadity\n",
    "\n",
    "PE  -  Net hourly electrical energy output"
   ]
  },
  {
   "cell_type": "code",
   "execution_count": 2,
   "metadata": {},
   "outputs": [
    {
     "data": {
      "text/html": [
       "<div>\n",
       "<style scoped>\n",
       "    .dataframe tbody tr th:only-of-type {\n",
       "        vertical-align: middle;\n",
       "    }\n",
       "\n",
       "    .dataframe tbody tr th {\n",
       "        vertical-align: top;\n",
       "    }\n",
       "\n",
       "    .dataframe thead th {\n",
       "        text-align: right;\n",
       "    }\n",
       "</style>\n",
       "<table border=\"1\" class=\"dataframe\">\n",
       "  <thead>\n",
       "    <tr style=\"text-align: right;\">\n",
       "      <th></th>\n",
       "      <th>AT</th>\n",
       "      <th>V</th>\n",
       "      <th>AP</th>\n",
       "      <th>RH</th>\n",
       "      <th>PE</th>\n",
       "    </tr>\n",
       "  </thead>\n",
       "  <tbody>\n",
       "    <tr>\n",
       "      <th>count</th>\n",
       "      <td>9568.000000</td>\n",
       "      <td>9568.000000</td>\n",
       "      <td>9568.000000</td>\n",
       "      <td>9568.000000</td>\n",
       "      <td>9568.000000</td>\n",
       "    </tr>\n",
       "    <tr>\n",
       "      <th>mean</th>\n",
       "      <td>19.651231</td>\n",
       "      <td>54.305804</td>\n",
       "      <td>1013.259078</td>\n",
       "      <td>73.308978</td>\n",
       "      <td>454.365009</td>\n",
       "    </tr>\n",
       "    <tr>\n",
       "      <th>std</th>\n",
       "      <td>7.452473</td>\n",
       "      <td>12.707893</td>\n",
       "      <td>5.938784</td>\n",
       "      <td>14.600269</td>\n",
       "      <td>17.066995</td>\n",
       "    </tr>\n",
       "    <tr>\n",
       "      <th>min</th>\n",
       "      <td>1.810000</td>\n",
       "      <td>25.360000</td>\n",
       "      <td>992.890000</td>\n",
       "      <td>25.560000</td>\n",
       "      <td>420.260000</td>\n",
       "    </tr>\n",
       "    <tr>\n",
       "      <th>25%</th>\n",
       "      <td>13.510000</td>\n",
       "      <td>41.740000</td>\n",
       "      <td>1009.100000</td>\n",
       "      <td>63.327500</td>\n",
       "      <td>439.750000</td>\n",
       "    </tr>\n",
       "    <tr>\n",
       "      <th>50%</th>\n",
       "      <td>20.345000</td>\n",
       "      <td>52.080000</td>\n",
       "      <td>1012.940000</td>\n",
       "      <td>74.975000</td>\n",
       "      <td>451.550000</td>\n",
       "    </tr>\n",
       "    <tr>\n",
       "      <th>75%</th>\n",
       "      <td>25.720000</td>\n",
       "      <td>66.540000</td>\n",
       "      <td>1017.260000</td>\n",
       "      <td>84.830000</td>\n",
       "      <td>468.430000</td>\n",
       "    </tr>\n",
       "    <tr>\n",
       "      <th>max</th>\n",
       "      <td>37.110000</td>\n",
       "      <td>81.560000</td>\n",
       "      <td>1033.300000</td>\n",
       "      <td>100.160000</td>\n",
       "      <td>495.760000</td>\n",
       "    </tr>\n",
       "  </tbody>\n",
       "</table>\n",
       "</div>"
      ],
      "text/plain": [
       "                AT            V           AP           RH           PE\n",
       "count  9568.000000  9568.000000  9568.000000  9568.000000  9568.000000\n",
       "mean     19.651231    54.305804  1013.259078    73.308978   454.365009\n",
       "std       7.452473    12.707893     5.938784    14.600269    17.066995\n",
       "min       1.810000    25.360000   992.890000    25.560000   420.260000\n",
       "25%      13.510000    41.740000  1009.100000    63.327500   439.750000\n",
       "50%      20.345000    52.080000  1012.940000    74.975000   451.550000\n",
       "75%      25.720000    66.540000  1017.260000    84.830000   468.430000\n",
       "max      37.110000    81.560000  1033.300000   100.160000   495.760000"
      ]
     },
     "execution_count": 2,
     "metadata": {},
     "output_type": "execute_result"
    }
   ],
   "source": [
    "dataset.describe()"
   ]
  },
  {
   "cell_type": "code",
   "execution_count": 3,
   "metadata": {},
   "outputs": [
    {
     "data": {
      "text/plain": [
       "PE    1.000000\n",
       "AP    0.518429\n",
       "RH    0.389794\n",
       "V    -0.869780\n",
       "AT   -0.948128\n",
       "Name: PE, dtype: float64"
      ]
     },
     "execution_count": 3,
     "metadata": {},
     "output_type": "execute_result"
    }
   ],
   "source": [
    "correlation_matrix = dataset.corr()\n",
    "correlation_matrix[\"PE\"].sort_values(ascending = False)"
   ]
  },
  {
   "cell_type": "code",
   "execution_count": 4,
   "metadata": {},
   "outputs": [
    {
     "data": {
      "text/plain": [
       "array([[<matplotlib.axes._subplots.AxesSubplot object at 0x00000176C5E28FD0>,\n",
       "        <matplotlib.axes._subplots.AxesSubplot object at 0x00000176C5ACBCC0>,\n",
       "        <matplotlib.axes._subplots.AxesSubplot object at 0x00000176C595F160>,\n",
       "        <matplotlib.axes._subplots.AxesSubplot object at 0x00000176C622E7F0>,\n",
       "        <matplotlib.axes._subplots.AxesSubplot object at 0x00000176C6255E80>],\n",
       "       [<matplotlib.axes._subplots.AxesSubplot object at 0x00000176C6255EB8>,\n",
       "        <matplotlib.axes._subplots.AxesSubplot object at 0x00000176C5850BE0>,\n",
       "        <matplotlib.axes._subplots.AxesSubplot object at 0x00000176C59CD2B0>,\n",
       "        <matplotlib.axes._subplots.AxesSubplot object at 0x00000176C59B8940>,\n",
       "        <matplotlib.axes._subplots.AxesSubplot object at 0x00000176C51AEFD0>],\n",
       "       [<matplotlib.axes._subplots.AxesSubplot object at 0x00000176C51486A0>,\n",
       "        <matplotlib.axes._subplots.AxesSubplot object at 0x00000176C5151D30>,\n",
       "        <matplotlib.axes._subplots.AxesSubplot object at 0x00000176C5554400>,\n",
       "        <matplotlib.axes._subplots.AxesSubplot object at 0x00000176C57A3A90>,\n",
       "        <matplotlib.axes._subplots.AxesSubplot object at 0x00000176C5876160>],\n",
       "       [<matplotlib.axes._subplots.AxesSubplot object at 0x00000176C588A7F0>,\n",
       "        <matplotlib.axes._subplots.AxesSubplot object at 0x00000176C5907E80>,\n",
       "        <matplotlib.axes._subplots.AxesSubplot object at 0x00000176C5A1E550>,\n",
       "        <matplotlib.axes._subplots.AxesSubplot object at 0x00000176C5A06BE0>,\n",
       "        <matplotlib.axes._subplots.AxesSubplot object at 0x00000176C4DC52B0>],\n",
       "       [<matplotlib.axes._subplots.AxesSubplot object at 0x00000176C5215940>,\n",
       "        <matplotlib.axes._subplots.AxesSubplot object at 0x00000176C5322FD0>,\n",
       "        <matplotlib.axes._subplots.AxesSubplot object at 0x00000176C53296A0>,\n",
       "        <matplotlib.axes._subplots.AxesSubplot object at 0x00000176C5432D30>,\n",
       "        <matplotlib.axes._subplots.AxesSubplot object at 0x00000176C5495400>]],\n",
       "      dtype=object)"
      ]
     },
     "execution_count": 4,
     "metadata": {},
     "output_type": "execute_result"
    }
   ],
   "source": [
    "from pandas.plotting import scatter_matrix\n",
    "\n",
    "attributes = [\"AP\", \"RH\", \"V\", \"AT\", \"PE\"]\n",
    "scatter_matrix(dataset[attributes], figsize=(12,8))"
   ]
  },
  {
   "cell_type": "markdown",
   "metadata": {},
   "source": [
    "As we can see that, energy produced is strongly negatively correlated with the Ambient temperature."
   ]
  },
  {
   "cell_type": "code",
   "execution_count": 5,
   "metadata": {},
   "outputs": [
    {
     "data": {
      "text/plain": [
       "<matplotlib.axes._subplots.AxesSubplot at 0x176c4506940>"
      ]
     },
     "execution_count": 5,
     "metadata": {},
     "output_type": "execute_result"
    },
    {
     "data": {
      "image/png": "[encoded data removed]",
      "text/plain": [
       "<Figure size 432x288 with 1 Axes>"
      ]
     },
     "metadata": {
      "needs_background": "light"
     },
     "output_type": "display_data"
    }
   ],
   "source": [
    "dataset.plot(kind = \"scatter\", x = \"AT\", y = \"PE\", alpha = 0.5)"
   ]
  },
  {
   "cell_type": "code",
   "execution_count": 6,
   "metadata": {},
   "outputs": [
    {
     "name": "stdout",
     "output_type": "stream",
     "text": [
      "[[-0.62951938 -0.98729659  1.8204884  -0.00951935  0.52120807]\n",
      " [ 0.74190911  0.68104512  1.1418628  -0.97462052 -0.58566442]\n",
      " [-1.95129733 -1.17301765 -0.18507756  1.2898397   2.00367889]\n",
      " ...\n",
      " [ 1.56583973  1.57581141 -0.05709854 -2.52261812 -1.45288056]\n",
      " [ 0.64797565  1.19177803  0.1011913  -0.74790051 -1.09134518]\n",
      " [ 0.26150656  0.64641916  0.66867722 -0.37254534 -0.06357687]]\n"
     ]
    }
   ],
   "source": [
    "from sklearn.preprocessing import StandardScaler\n",
    "\n",
    "scaler = StandardScaler()\n",
    "print(scaler.fit_transform(dataset))\n",
    "dataset = scaler.fit_transform(dataset)"
   ]
  },
  {
   "cell_type": "code",
   "execution_count": 15,
   "metadata": {},
   "outputs": [
    {
     "name": "stdout",
     "output_type": "stream",
     "text": [
      "tensor([[-0.6295, -0.9873,  1.8205, -0.0095],\n",
      "        [ 0.7419,  0.6810,  1.1419, -0.9746],\n",
      "        [-1.9513, -1.1730, -0.1851,  1.2898],\n",
      "        ...,\n",
      "        [ 1.5658,  1.5758, -0.0571, -2.5226],\n",
      "        [ 0.6480,  1.1918,  0.1012, -0.7479],\n",
      "        [ 0.2615,  0.6464,  0.6687, -0.3725]], dtype=torch.float64)\n",
      "tensor([[ 0.5212],\n",
      "        [-0.5857],\n",
      "        [ 2.0037],\n",
      "        ...,\n",
      "        [-1.4529],\n",
      "        [-1.0913],\n",
      "        [-0.0636]], dtype=torch.float64)\n"
     ]
    }
   ],
   "source": [
    "%matplotlib inline\n",
    "import torch\n",
    "import torch.nn.functional as F\n",
    "import matplotlib.pyplot as plt\n",
    "\n",
    "X, y = dataset[:, : 4] , dataset[: , 4]\n",
    "\n",
    "X = torch.tensor(X)\n",
    "y = torch.unsqueeze(torch.tensor(y), dim = 1)\n",
    "print(X)\n",
    "print(y)\n",
    "\n"
   ]
  },
  {
   "cell_type": "code",
   "execution_count": 16,
   "metadata": {},
   "outputs": [
    {
     "data": {
      "text/plain": [
       "<torch._C.Generator at 0x176c82578d0>"
      ]
     },
     "execution_count": 16,
     "metadata": {},
     "output_type": "execute_result"
    }
   ],
   "source": [
    "torch.manual_seed(1) #reproducible                        "
   ]
  },
  {
   "cell_type": "code",
   "execution_count": 17,
   "metadata": {},
   "outputs": [],
   "source": [
    "# n_hidden2, n_hidden3\n",
    "class Net(torch.nn.Module):\n",
    "    def __init__(self, n_features, n_hidden1, n_hidden2, n_output):\n",
    "        super(Net, self).__init__()\n",
    "        self.hidden1 = torch.nn.Linear(n_features, n_hidden1)\n",
    "        self.hidden2 = torch.nn.Linear(n_hidden1, n_hidden2 )\n",
    "        # self.hidden3 = torch.nn.Linear(n_hidden2, n_hidden3 )\n",
    "        self.predict = torch.nn.Linear(n_hidden2, n_output )\n",
    "        \n",
    "    def forward(self, x):\n",
    "        x = F.relu(self.hidden1(x))\n",
    "        x = F.relu(self.hidden2(x))\n",
    "        #x = F.relu(self.hidden3(x))\n",
    "        x = self.predict(x)\n",
    "        return x"
   ]
  },
  {
   "cell_type": "code",
   "execution_count": 20,
   "metadata": {},
   "outputs": [
    {
     "name": "stdout",
     "output_type": "stream",
     "text": [
      "tensor([[-0.1303],\n",
      "        [-0.0959],\n",
      "        [-0.1185],\n",
      "        ...,\n",
      "        [-0.0334],\n",
      "        [-0.0260],\n",
      "        [-0.0639]], grad_fn=<AddmmBackward>)\n"
     ]
    }
   ],
   "source": [
    "n_features = 4\n",
    "n_hidden1 = 100\n",
    "n_hidden2 = 100\n",
    "n_output = 1\n",
    "\n",
    "\n",
    "net = Net(n_features, n_hidden1, n_hidden2, n_output)\n",
    "\n",
    "print( net(X.float()))"
   ]
  },
  {
   "cell_type": "code",
   "execution_count": 21,
   "metadata": {},
   "outputs": [],
   "source": [
    "# Optimizer and loss function.\n",
    "optimizer = torch.optim.SGD(net.parameters(), lr = 0.1)\n",
    "loss_func = torch.nn.MSELoss() # this is for regression mean squared loss"
   ]
  },
  {
   "cell_type": "markdown",
   "metadata": {},
   "source": [
    "It is very important to use the right number of iterations for training otherwiser the model start overfitting."
   ]
  },
  {
   "cell_type": "code",
   "execution_count": 26,
   "metadata": {
    "scrolled": true
   },
   "outputs": [],
   "source": [
    "from sklearn.metrics import accuracy_score\n",
    "\n",
    "for epoch in range(100):\n",
    "    \n",
    "    # Forward propagation\n",
    "    # Predictions based on the value of X_train\n",
    "    prediction = net(X.float()) \n",
    "    # Computing and printing loss\n",
    "    loss = loss_func(prediction, y.float())\n",
    "    \n",
    "    print('epoch : ', epoch, ' loss: ', loss.item())\n",
    "    optimizer.zero_grad() # Clearing gradient for next train\n",
    "    loss.backward()       # backpropagation, compute gradient\n",
    "    optimizer.step()      # apply gradients"
   ]
  },
  {
   "cell_type": "code",
   "execution_count": null,
   "metadata": {},
   "outputs": [],
   "source": []
  }
 ],
 "metadata": {
  "kernelspec": {
   "display_name": "Python 3",
   "language": "python",
   "name": "python3"
  },
  "language_info": {
   "codemirror_mode": {
    "name": "ipython",
    "version": 3
   },
   "file_extension": ".py",
   "mimetype": "text/x-python",
   "name": "python",
   "nbconvert_exporter": "python",
   "pygments_lexer": "ipython3",
   "version": "3.7.0"
  }
 },
 "nbformat": 4,
 "nbformat_minor": 2
}
